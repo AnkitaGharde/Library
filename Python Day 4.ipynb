{
 "cells": [
  {
   "cell_type": "markdown",
   "id": "946155c9",
   "metadata": {},
   "source": [
    "- Loops in python\n",
    "- Conditional statement\n",
    "- User define function\n",
    "- Local and Global variable\n",
    "- Lambda function\n",
    "- List comprehension"
   ]
  },
  {
   "cell_type": "code",
   "execution_count": null,
   "id": "df4feb59",
   "metadata": {},
   "outputs": [],
   "source": []
  },
  {
   "cell_type": "markdown",
   "id": "a8044469",
   "metadata": {},
   "source": [
    "## Loops in python"
   ]
  },
  {
   "cell_type": "markdown",
   "id": "0f2c2912",
   "metadata": {},
   "source": [
    "- for loop\n",
    "- while loop"
   ]
  },
  {
   "cell_type": "code",
   "execution_count": null,
   "id": "1c3a466a",
   "metadata": {},
   "outputs": [],
   "source": []
  },
  {
   "cell_type": "code",
   "execution_count": null,
   "id": "bc00233e",
   "metadata": {},
   "outputs": [],
   "source": []
  },
  {
   "cell_type": "code",
   "execution_count": null,
   "id": "ee3c6dfa",
   "metadata": {},
   "outputs": [],
   "source": []
  },
  {
   "cell_type": "markdown",
   "id": "7874dbac",
   "metadata": {},
   "source": [
    "## for loop"
   ]
  },
  {
   "cell_type": "markdown",
   "id": "4e28bc68",
   "metadata": {},
   "source": [
    "- The for loop is usually used when the number of iterations is known.\n",
    "\n",
    "- A for loop in Python is used to iterate over a sequence (such as a list, tuple, string, or range) and execute a block of code for each item in the sequence."
   ]
  },
  {
   "cell_type": "code",
   "execution_count": null,
   "id": "9406522b",
   "metadata": {},
   "outputs": [],
   "source": []
  },
  {
   "cell_type": "markdown",
   "id": "fc8ea5a6",
   "metadata": {},
   "source": [
    "#### syntax:"
   ]
  },
  {
   "cell_type": "raw",
   "id": "d8417894",
   "metadata": {},
   "source": [
    "for item in sequence:\n",
    "    statement"
   ]
  },
  {
   "cell_type": "code",
   "execution_count": null,
   "id": "d1478cd0",
   "metadata": {},
   "outputs": [],
   "source": []
  },
  {
   "cell_type": "markdown",
   "id": "71ae2a3e",
   "metadata": {},
   "source": [
    "#### example:"
   ]
  },
  {
   "cell_type": "code",
   "execution_count": 2,
   "id": "0f182a52",
   "metadata": {},
   "outputs": [
    {
     "name": "stdout",
     "output_type": "stream",
     "text": [
      "1\n",
      "2\n",
      "3\n",
      "4\n",
      "5\n"
     ]
    }
   ],
   "source": [
    "l1 = [1,2,3,4,5]\n",
    "\n",
    "for i in l1:\n",
    "    print(i)    "
   ]
  },
  {
   "cell_type": "markdown",
   "id": "7a6ad03a",
   "metadata": {},
   "source": [
    "### range()"
   ]
  },
  {
   "cell_type": "code",
   "execution_count": 18,
   "id": "73d32796",
   "metadata": {},
   "outputs": [
    {
     "name": "stdout",
     "output_type": "stream",
     "text": [
      "1\n",
      "2\n",
      "3\n",
      "4\n",
      "5\n",
      "6\n",
      "7\n",
      "8\n",
      "9\n",
      "10\n"
     ]
    }
   ],
   "source": [
    "# example2\n",
    "\n",
    "\n",
    "for j in range(1,11):\n",
    "    print(j)"
   ]
  },
  {
   "cell_type": "code",
   "execution_count": null,
   "id": "5419fd1a",
   "metadata": {},
   "outputs": [],
   "source": []
  },
  {
   "cell_type": "markdown",
   "id": "9c896679",
   "metadata": {},
   "source": [
    "#### iterating over dictionary"
   ]
  },
  {
   "cell_type": "code",
   "execution_count": null,
   "id": "18680411",
   "metadata": {},
   "outputs": [],
   "source": []
  },
  {
   "cell_type": "code",
   "execution_count": 19,
   "id": "0dd74b80",
   "metadata": {},
   "outputs": [],
   "source": [
    "dict1 = {'Name':'Vik','Age':20,'city':'Nagpur'}"
   ]
  },
  {
   "cell_type": "code",
   "execution_count": null,
   "id": "09b184f8",
   "metadata": {},
   "outputs": [],
   "source": []
  },
  {
   "cell_type": "code",
   "execution_count": 23,
   "id": "f98b47ec",
   "metadata": {},
   "outputs": [
    {
     "name": "stdout",
     "output_type": "stream",
     "text": [
      "('Name', 'Vik')\n",
      "('Age', 20)\n",
      "('city', 'Nagpur')\n"
     ]
    }
   ],
   "source": [
    "for d in dict1.items():\n",
    "    print(d)"
   ]
  },
  {
   "cell_type": "code",
   "execution_count": null,
   "id": "a844229a",
   "metadata": {},
   "outputs": [],
   "source": []
  },
  {
   "cell_type": "code",
   "execution_count": 27,
   "id": "bbb76e1c",
   "metadata": {},
   "outputs": [
    {
     "name": "stdout",
     "output_type": "stream",
     "text": [
      "Name : Vik\n",
      "Age : 20\n",
      "city : Nagpur\n"
     ]
    }
   ],
   "source": [
    "for d1,d2 in dict1.items():\n",
    "    print(d1,':',d2)"
   ]
  },
  {
   "cell_type": "code",
   "execution_count": null,
   "id": "ccaf06e0",
   "metadata": {},
   "outputs": [],
   "source": []
  },
  {
   "cell_type": "code",
   "execution_count": null,
   "id": "43f80b56",
   "metadata": {},
   "outputs": [],
   "source": []
  },
  {
   "cell_type": "markdown",
   "id": "79654db2",
   "metadata": {},
   "source": [
    "## while loop"
   ]
  },
  {
   "cell_type": "raw",
   "id": "30ea6350",
   "metadata": {},
   "source": [
    "Python while loop is used to run a block code until a certain condition is met."
   ]
  },
  {
   "cell_type": "raw",
   "id": "bea906e3",
   "metadata": {},
   "source": [
    "<img src=\"python_while_loop.png\" alt=\"Alt text\" width=\"500\"/>"
   ]
  },
  {
   "cell_type": "code",
   "execution_count": null,
   "id": "0bd236ae",
   "metadata": {},
   "outputs": [],
   "source": []
  },
  {
   "cell_type": "markdown",
   "id": "290ddc89",
   "metadata": {},
   "source": [
    "#### syntax:"
   ]
  },
  {
   "cell_type": "code",
   "execution_count": null,
   "id": "75c32bac",
   "metadata": {},
   "outputs": [],
   "source": [
    "while condition:\n",
    "    #body of while loop\n",
    "    "
   ]
  },
  {
   "cell_type": "code",
   "execution_count": null,
   "id": "fa62c225",
   "metadata": {},
   "outputs": [],
   "source": []
  },
  {
   "cell_type": "markdown",
   "id": "35d6cca5",
   "metadata": {},
   "source": [
    "<img src=\"python_while_loop.png\" alt=\"Alt text\" width=\"500\"/>\n"
   ]
  },
  {
   "cell_type": "code",
   "execution_count": null,
   "id": "2fc4408b",
   "metadata": {},
   "outputs": [],
   "source": []
  },
  {
   "cell_type": "markdown",
   "id": "6c908b00",
   "metadata": {},
   "source": [
    "#### examples:"
   ]
  },
  {
   "cell_type": "code",
   "execution_count": 30,
   "id": "f459bcc4",
   "metadata": {},
   "outputs": [
    {
     "name": "stdout",
     "output_type": "stream",
     "text": [
      "1\n",
      "2\n",
      "3\n",
      "4\n",
      "5\n",
      "6\n",
      "7\n",
      "8\n",
      "9\n",
      "10\n"
     ]
    }
   ],
   "source": [
    "num = 1\n",
    "while num<=10:\n",
    "    print(num)\n",
    "    \n",
    "    num +=1\n",
    "    \n",
    "# print(num)"
   ]
  },
  {
   "cell_type": "code",
   "execution_count": null,
   "id": "cff1ac3e",
   "metadata": {},
   "outputs": [],
   "source": []
  },
  {
   "cell_type": "code",
   "execution_count": 31,
   "id": "ef46191f",
   "metadata": {},
   "outputs": [
    {
     "name": "stdout",
     "output_type": "stream",
     "text": [
      "10\n",
      "9\n",
      "8\n",
      "7\n",
      "6\n",
      "5\n",
      "4\n",
      "3\n",
      "2\n",
      "1\n"
     ]
    }
   ],
   "source": [
    "num = 10\n",
    "while num>=1:\n",
    "    print(num)\n",
    "    \n",
    "    num -=1"
   ]
  },
  {
   "cell_type": "code",
   "execution_count": null,
   "id": "f964cb40",
   "metadata": {},
   "outputs": [],
   "source": []
  },
  {
   "cell_type": "code",
   "execution_count": 34,
   "id": "a2577b67",
   "metadata": {},
   "outputs": [
    {
     "name": "stdout",
     "output_type": "stream",
     "text": [
      "enter your password :12345\n",
      "Congratulation!\n"
     ]
    }
   ],
   "source": [
    "password = 12345\n",
    "\n",
    "\n",
    "p = int(input('enter your password :'))\n",
    "\n",
    "while p !=password:\n",
    "    print('Sorry,please try again')\n",
    "    \n",
    "    p = int(input('enter your password :'))\n",
    "    \n",
    "print('Congratulation!')    "
   ]
  },
  {
   "cell_type": "code",
   "execution_count": null,
   "id": "42a0bf62",
   "metadata": {},
   "outputs": [],
   "source": []
  },
  {
   "cell_type": "markdown",
   "id": "99c89224",
   "metadata": {},
   "source": []
  },
  {
   "cell_type": "code",
   "execution_count": null,
   "id": "a577eccc",
   "metadata": {},
   "outputs": [],
   "source": []
  },
  {
   "cell_type": "markdown",
   "id": "8f17fa66",
   "metadata": {},
   "source": [
    "## Control Statement"
   ]
  },
  {
   "cell_type": "markdown",
   "id": "de48e530",
   "metadata": {},
   "source": [
    "- pass\n",
    "- break\n",
    "- continue"
   ]
  },
  {
   "cell_type": "markdown",
   "id": "93c6d949",
   "metadata": {},
   "source": [
    "### pass"
   ]
  },
  {
   "cell_type": "raw",
   "id": "7a746f3c",
   "metadata": {},
   "source": [
    "The pass statement is a null statement which can be used as a placeholder for future code."
   ]
  },
  {
   "cell_type": "code",
   "execution_count": 36,
   "id": "9c908406",
   "metadata": {},
   "outputs": [],
   "source": [
    "for k in range(1,5):\n",
    "    pass"
   ]
  },
  {
   "cell_type": "code",
   "execution_count": null,
   "id": "eca7cf97",
   "metadata": {},
   "outputs": [],
   "source": []
  },
  {
   "cell_type": "code",
   "execution_count": null,
   "id": "467bcef2",
   "metadata": {},
   "outputs": [],
   "source": []
  },
  {
   "cell_type": "markdown",
   "id": "9da16e3e",
   "metadata": {},
   "source": [
    "### break"
   ]
  },
  {
   "cell_type": "raw",
   "id": "9a056b86",
   "metadata": {},
   "source": [
    "Iteration break, out of the block"
   ]
  },
  {
   "cell_type": "markdown",
   "id": "9838e548",
   "metadata": {},
   "source": [
    "#### example:"
   ]
  },
  {
   "cell_type": "code",
   "execution_count": 40,
   "id": "7fcac548",
   "metadata": {},
   "outputs": [
    {
     "name": "stdout",
     "output_type": "stream",
     "text": [
      "1\n",
      "2\n",
      "3\n"
     ]
    }
   ],
   "source": [
    "for t in [1,2,3,4,5,6,7]:\n",
    "    if t==4:\n",
    "        break\n",
    "    print(t)"
   ]
  },
  {
   "cell_type": "code",
   "execution_count": null,
   "id": "67ff9538",
   "metadata": {},
   "outputs": [],
   "source": []
  },
  {
   "cell_type": "markdown",
   "id": "269bd7a3",
   "metadata": {},
   "source": [
    "### continue"
   ]
  },
  {
   "cell_type": "raw",
   "id": "265dab41",
   "metadata": {},
   "source": [
    "The continue keyword is used to end the current iteration in a for loop (or a while loop), and continues to the next iteration."
   ]
  },
  {
   "cell_type": "markdown",
   "id": "37fdfd67",
   "metadata": {},
   "source": [
    "#### example:"
   ]
  },
  {
   "cell_type": "code",
   "execution_count": 42,
   "id": "1dcb8aec",
   "metadata": {},
   "outputs": [
    {
     "name": "stdout",
     "output_type": "stream",
     "text": [
      "1\n",
      "2\n",
      "3\n",
      "5\n",
      "6\n",
      "7\n"
     ]
    }
   ],
   "source": [
    "for t1 in [1,2,3,4,5,6,7]:\n",
    "    if t1==4:\n",
    "        continue\n",
    "    print(t1)"
   ]
  },
  {
   "cell_type": "code",
   "execution_count": null,
   "id": "e61a6ed9",
   "metadata": {},
   "outputs": [],
   "source": []
  },
  {
   "cell_type": "code",
   "execution_count": 43,
   "id": "34f8ec80",
   "metadata": {},
   "outputs": [],
   "source": [
    "#############################################################################"
   ]
  },
  {
   "cell_type": "code",
   "execution_count": null,
   "id": "f877ee1f",
   "metadata": {},
   "outputs": [],
   "source": []
  },
  {
   "cell_type": "code",
   "execution_count": null,
   "id": "b357d840",
   "metadata": {},
   "outputs": [],
   "source": []
  },
  {
   "cell_type": "code",
   "execution_count": null,
   "id": "8df19306",
   "metadata": {},
   "outputs": [],
   "source": []
  },
  {
   "cell_type": "markdown",
   "id": "2dc1c453",
   "metadata": {},
   "source": [
    "# Conditional statement"
   ]
  },
  {
   "cell_type": "markdown",
   "id": "ffa91642",
   "metadata": {},
   "source": [
    "- if\n",
    "- if else\n",
    "- if elif else"
   ]
  },
  {
   "cell_type": "markdown",
   "id": "d91b505b",
   "metadata": {},
   "source": [
    "## if"
   ]
  },
  {
   "cell_type": "raw",
   "id": "64de1fdc",
   "metadata": {},
   "source": [
    "The if statement is used to test a specific condition. If the condition is true, a block of code (if-block) will be executed."
   ]
  },
  {
   "cell_type": "markdown",
   "id": "f35be685",
   "metadata": {},
   "source": [
    "#### syntax:"
   ]
  },
  {
   "cell_type": "raw",
   "id": "da1fcf9f",
   "metadata": {},
   "source": [
    "if condition:\n",
    "    statements"
   ]
  },
  {
   "cell_type": "code",
   "execution_count": null,
   "id": "55c79c47",
   "metadata": {},
   "outputs": [],
   "source": []
  },
  {
   "cell_type": "code",
   "execution_count": 48,
   "id": "6e607037",
   "metadata": {},
   "outputs": [
    {
     "name": "stdout",
     "output_type": "stream",
     "text": [
      "a is equal to 10\n"
     ]
    }
   ],
   "source": [
    "a = 10\n",
    "\n",
    "if a==10:\n",
    "    print('a is equal to 10')"
   ]
  },
  {
   "cell_type": "code",
   "execution_count": null,
   "id": "55f76f7d",
   "metadata": {},
   "outputs": [],
   "source": []
  },
  {
   "cell_type": "code",
   "execution_count": null,
   "id": "6b023c5a",
   "metadata": {},
   "outputs": [],
   "source": []
  },
  {
   "cell_type": "markdown",
   "id": "27120192",
   "metadata": {},
   "source": [
    "### if else"
   ]
  },
  {
   "cell_type": "raw",
   "id": "388a6169",
   "metadata": {},
   "source": [
    "The if-else statement allows you to execute one block of code if the condition is true and another block if the condition is false."
   ]
  },
  {
   "cell_type": "code",
   "execution_count": null,
   "id": "cafea469",
   "metadata": {},
   "outputs": [],
   "source": []
  },
  {
   "cell_type": "markdown",
   "id": "e2783238",
   "metadata": {},
   "source": [
    "#### example:"
   ]
  },
  {
   "cell_type": "code",
   "execution_count": 50,
   "id": "76e5e230",
   "metadata": {},
   "outputs": [
    {
     "name": "stdout",
     "output_type": "stream",
     "text": [
      "enter any number :11\n",
      "odd number\n"
     ]
    }
   ],
   "source": [
    "user = int(input('enter any number :'))\n",
    "\n",
    "\n",
    "if (user%2==0):\n",
    "    print('even number')\n",
    "    \n",
    "    \n",
    "else:\n",
    "    print('odd number')"
   ]
  },
  {
   "cell_type": "code",
   "execution_count": null,
   "id": "f432103c",
   "metadata": {},
   "outputs": [],
   "source": []
  },
  {
   "cell_type": "markdown",
   "id": "9a3f37e3",
   "metadata": {},
   "source": [
    "#### example2"
   ]
  },
  {
   "cell_type": "code",
   "execution_count": 56,
   "id": "76c5484b",
   "metadata": {},
   "outputs": [
    {
     "name": "stdout",
     "output_type": "stream",
     "text": [
      "enter your age :10\n",
      "You are not eligible for vote\n"
     ]
    }
   ],
   "source": [
    "age = int(input('enter your age :'))\n",
    "\n",
    "\n",
    "if age<18:\n",
    "    if age==2:\n",
    "        print('You are too Small')\n",
    "    print('You are not eligible for vote')\n",
    "    \n",
    "elif age==18:\n",
    "    print('You are eligible and Study for proper voting')\n",
    "    \n",
    "elif age>100: \n",
    "    print('Over Age')\n",
    "    \n",
    "else:\n",
    "    print('You are eligible')\n",
    "    "
   ]
  },
  {
   "cell_type": "code",
   "execution_count": null,
   "id": "b18dcd51",
   "metadata": {},
   "outputs": [],
   "source": []
  },
  {
   "cell_type": "code",
   "execution_count": null,
   "id": "f7e8a4d5",
   "metadata": {},
   "outputs": [],
   "source": []
  },
  {
   "cell_type": "code",
   "execution_count": null,
   "id": "561cc27c",
   "metadata": {},
   "outputs": [],
   "source": []
  },
  {
   "cell_type": "code",
   "execution_count": null,
   "id": "5adaf9d1",
   "metadata": {},
   "outputs": [],
   "source": []
  },
  {
   "cell_type": "code",
   "execution_count": null,
   "id": "13719d88",
   "metadata": {},
   "outputs": [],
   "source": []
  },
  {
   "cell_type": "code",
   "execution_count": null,
   "id": "c1d27b2b",
   "metadata": {},
   "outputs": [],
   "source": []
  },
  {
   "cell_type": "code",
   "execution_count": null,
   "id": "9581ba9b",
   "metadata": {},
   "outputs": [],
   "source": []
  },
  {
   "cell_type": "code",
   "execution_count": null,
   "id": "7bc6445c",
   "metadata": {},
   "outputs": [],
   "source": []
  },
  {
   "cell_type": "markdown",
   "id": "82fee991",
   "metadata": {},
   "source": [
    "## if-elif-else"
   ]
  },
  {
   "cell_type": "raw",
   "id": "c220b8aa",
   "metadata": {},
   "source": [
    "The if-elif-else statement is an extension of the if-else statement. It allows you to check multiple conditions and execute different blocks of code based on which condition is true."
   ]
  },
  {
   "cell_type": "code",
   "execution_count": null,
   "id": "7f5d636a",
   "metadata": {},
   "outputs": [],
   "source": []
  },
  {
   "cell_type": "code",
   "execution_count": null,
   "id": "a74f3d80",
   "metadata": {},
   "outputs": [],
   "source": []
  },
  {
   "cell_type": "code",
   "execution_count": null,
   "id": "e7521326",
   "metadata": {},
   "outputs": [],
   "source": []
  },
  {
   "cell_type": "code",
   "execution_count": null,
   "id": "2815a18f",
   "metadata": {},
   "outputs": [],
   "source": []
  },
  {
   "cell_type": "code",
   "execution_count": null,
   "id": "1c1514ad",
   "metadata": {},
   "outputs": [],
   "source": []
  },
  {
   "cell_type": "code",
   "execution_count": null,
   "id": "26b15b92",
   "metadata": {},
   "outputs": [],
   "source": []
  },
  {
   "cell_type": "code",
   "execution_count": null,
   "id": "22a9ba4a",
   "metadata": {},
   "outputs": [],
   "source": []
  },
  {
   "cell_type": "code",
   "execution_count": null,
   "id": "3d4ee049",
   "metadata": {},
   "outputs": [],
   "source": []
  },
  {
   "cell_type": "code",
   "execution_count": null,
   "id": "9bb6d720",
   "metadata": {},
   "outputs": [],
   "source": []
  }
 ],
 "metadata": {
  "kernelspec": {
   "display_name": "Python 3 (ipykernel)",
   "language": "python",
   "name": "python3"
  },
  "language_info": {
   "codemirror_mode": {
    "name": "ipython",
    "version": 3
   },
   "file_extension": ".py",
   "mimetype": "text/x-python",
   "name": "python",
   "nbconvert_exporter": "python",
   "pygments_lexer": "ipython3",
   "version": "3.11.5"
  }
 },
 "nbformat": 4,
 "nbformat_minor": 5
}
